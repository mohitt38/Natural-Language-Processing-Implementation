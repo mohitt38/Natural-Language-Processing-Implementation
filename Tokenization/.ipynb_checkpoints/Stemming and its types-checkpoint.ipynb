{
 "cells": [
  {
   "cell_type": "code",
   "execution_count": 2,
   "id": "b9f3d1a0-c009-433c-a0ff-62f8c5ab85d2",
   "metadata": {},
   "outputs": [],
   "source": [
    "words=['eating','eaten','writes','writing','eats','written','programming','programs']"
   ]
  },
  {
   "cell_type": "markdown",
   "id": "2efe28ce-dedb-4760-8426-a4b54d23ce39",
   "metadata": {},
   "source": [
    "### PorterStemmer"
   ]
  },
  {
   "cell_type": "code",
   "execution_count": 3,
   "id": "140452c9-ce19-4390-bec8-01f0b8cef783",
   "metadata": {},
   "outputs": [],
   "source": [
    "from nltk.stem import PorterStemmer"
   ]
  },
  {
   "cell_type": "code",
   "execution_count": 7,
   "id": "d22d4ee3-21cd-4ec6-ac92-9a5d8329ac3b",
   "metadata": {},
   "outputs": [],
   "source": [
    "stemming = PorterStemmer()"
   ]
  },
  {
   "cell_type": "code",
   "execution_count": 8,
   "id": "3f59a266-4877-4997-863a-88faece3817d",
   "metadata": {},
   "outputs": [
    {
     "name": "stdout",
     "output_type": "stream",
     "text": [
      "eating------>eat\n",
      "eaten------>eaten\n",
      "writes------>write\n",
      "writing------>write\n",
      "eats------>eat\n",
      "written------>written\n",
      "programming------>program\n",
      "programs------>program\n"
     ]
    }
   ],
   "source": [
    "for word in words:\n",
    "    print(word+\"------>\"+stemming.stem(word))"
   ]
  },
  {
   "cell_type": "code",
   "execution_count": 11,
   "id": "f9fb9bfe-5eba-4625-8f46-052cb8d28f3f",
   "metadata": {},
   "outputs": [
    {
     "data": {
      "text/plain": [
       "'congratul'"
      ]
     },
     "execution_count": 11,
     "metadata": {},
     "output_type": "execute_result"
    }
   ],
   "source": [
    "stemming.stem(\"congratulations\")"
   ]
  },
  {
   "cell_type": "markdown",
   "id": "03c3d04f-1cb4-4102-92ce-a677b1ae4e32",
   "metadata": {},
   "source": [
    "### RegexStemmer"
   ]
  },
  {
   "cell_type": "code",
   "execution_count": 12,
   "id": "ddfc652a-fc53-4ae0-9bf8-c395a13a6cc6",
   "metadata": {},
   "outputs": [],
   "source": [
    "from nltk.stem import RegexpStemmer"
   ]
  },
  {
   "cell_type": "code",
   "execution_count": 14,
   "id": "0c25b258-0d41-4035-a011-17dc5ec1b19b",
   "metadata": {},
   "outputs": [],
   "source": [
    "reg= RegexpStemmer('ing$|s$|e$|able$', min=4)"
   ]
  },
  {
   "cell_type": "code",
   "execution_count": 20,
   "id": "8b2448fd-6c3f-4373-bd36-f8f0674dcaf7",
   "metadata": {},
   "outputs": [
    {
     "data": {
      "text/plain": [
       "'cook'"
      ]
     },
     "execution_count": 20,
     "metadata": {},
     "output_type": "execute_result"
    }
   ],
   "source": [
    "reg.stem('cooking')"
   ]
  },
  {
   "cell_type": "code",
   "execution_count": 26,
   "id": "fa852d3f-d3bb-462c-8f4b-b8794ddef95e",
   "metadata": {},
   "outputs": [
    {
     "data": {
      "text/plain": [
       "'un'"
      ]
     },
     "execution_count": 26,
     "metadata": {},
     "output_type": "execute_result"
    }
   ],
   "source": [
    "reg.stem('unable')"
   ]
  },
  {
   "cell_type": "markdown",
   "id": "cb1d12dd-b1cd-4568-afd7-c301ae7095c3",
   "metadata": {},
   "source": [
    "### Snowball Stemmer"
   ]
  },
  {
   "cell_type": "code",
   "execution_count": 27,
   "id": "d28d4eea-7f74-4b56-bc1a-03a891bf3b09",
   "metadata": {},
   "outputs": [],
   "source": [
    "from nltk.stem import SnowballStemmer"
   ]
  },
  {
   "cell_type": "code",
   "execution_count": 29,
   "id": "d928f73d-9928-4e53-a91e-624160abde73",
   "metadata": {},
   "outputs": [],
   "source": [
    "snow=SnowballStemmer('english')"
   ]
  },
  {
   "cell_type": "code",
   "execution_count": 32,
   "id": "a9ca3cd7-a887-4c5f-b396-f83515776d53",
   "metadata": {},
   "outputs": [
    {
     "name": "stdout",
     "output_type": "stream",
     "text": [
      "eating------>eat\n",
      "eaten------>eaten\n",
      "writes------>write\n",
      "writing------>write\n",
      "eats------>eat\n",
      "written------>written\n",
      "programming------>program\n",
      "programs------>program\n"
     ]
    }
   ],
   "source": [
    "for word in words:\n",
    "    print(word+\"------>\"+snow.stem(word))"
   ]
  },
  {
   "cell_type": "code",
   "execution_count": 33,
   "id": "e9015e81-0da4-45d4-8049-2f3b3a85de81",
   "metadata": {},
   "outputs": [
    {
     "data": {
      "text/plain": [
       "('fairli', 'sportingli')"
      ]
     },
     "execution_count": 33,
     "metadata": {},
     "output_type": "execute_result"
    }
   ],
   "source": [
    "stemming.stem('fairly') , stemming.stem('sportingly')"
   ]
  },
  {
   "cell_type": "code",
   "execution_count": 34,
   "id": "7a53b884-fcee-4793-b7bd-40e694fac562",
   "metadata": {},
   "outputs": [
    {
     "data": {
      "text/plain": [
       "('fair', 'sport')"
      ]
     },
     "execution_count": 34,
     "metadata": {},
     "output_type": "execute_result"
    }
   ],
   "source": [
    "snow.stem('fairly') , snow.stem('sportingly')"
   ]
  },
  {
   "cell_type": "code",
   "execution_count": null,
   "id": "a6655640-ecf4-42a4-8e10-f299d77f50b4",
   "metadata": {},
   "outputs": [],
   "source": []
  }
 ],
 "metadata": {
  "kernelspec": {
   "display_name": "Python 3 (ipykernel)",
   "language": "python",
   "name": "python3"
  },
  "language_info": {
   "codemirror_mode": {
    "name": "ipython",
    "version": 3
   },
   "file_extension": ".py",
   "mimetype": "text/x-python",
   "name": "python",
   "nbconvert_exporter": "python",
   "pygments_lexer": "ipython3",
   "version": "3.12.4"
  }
 },
 "nbformat": 4,
 "nbformat_minor": 5
}
