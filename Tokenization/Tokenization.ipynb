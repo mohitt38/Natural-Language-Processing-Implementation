{
 "cells": [
  {
   "cell_type": "code",
   "execution_count": 12,
   "id": "b96eb1ca-e026-4132-9b46-1b10299b0430",
   "metadata": {},
   "outputs": [
    {
     "name": "stdout",
     "output_type": "stream",
     "text": [
      "Requirement already satisfied: nltk in c:\\users\\lenovo\\anaconda2\\lib\\site-packages (3.8.1)\n",
      "Requirement already satisfied: click in c:\\users\\lenovo\\anaconda2\\lib\\site-packages (from nltk) (8.1.7)\n",
      "Requirement already satisfied: joblib in c:\\users\\lenovo\\anaconda2\\lib\\site-packages (from nltk) (1.4.2)\n",
      "Requirement already satisfied: regex>=2021.8.3 in c:\\users\\lenovo\\anaconda2\\lib\\site-packages (from nltk) (2023.10.3)\n",
      "Requirement already satisfied: tqdm in c:\\users\\lenovo\\anaconda2\\lib\\site-packages (from nltk) (4.66.4)\n",
      "Requirement already satisfied: colorama in c:\\users\\lenovo\\anaconda2\\lib\\site-packages (from click->nltk) (0.4.6)\n"
     ]
    },
    {
     "name": "stderr",
     "output_type": "stream",
     "text": [
      "[nltk_data] Downloading package punkt to\n",
      "[nltk_data]     C:\\Users\\Lenovo\\AppData\\Roaming\\nltk_data...\n",
      "[nltk_data]   Unzipping tokenizers\\punkt.zip.\n"
     ]
    },
    {
     "data": {
      "text/plain": [
       "True"
      ]
     },
     "execution_count": 12,
     "metadata": {},
     "output_type": "execute_result"
    }
   ],
   "source": [
    "!pip install nltk\n",
    "import nltk\n",
    "nltk.download('punkt')"
   ]
  },
  {
   "cell_type": "code",
   "execution_count": 13,
   "id": "d9c0952c-fed7-4fc4-9ec3-36b4db2b5563",
   "metadata": {},
   "outputs": [],
   "source": [
    "corpus =\"\"\"HELLO WELCOME TO MOHIT NAGDA'S JUPYTER NOTEBOOK.\n",
    "I HOPE YOU ARE WELL, I AM A 3RD YEAR STUDENT PURSUING BTECH.\n",
    "OKAY BYE\"\"\""
   ]
  },
  {
   "cell_type": "code",
   "execution_count": 14,
   "id": "6eec0776-2e4a-4249-a731-8d7858baf9bf",
   "metadata": {},
   "outputs": [
    {
     "name": "stdout",
     "output_type": "stream",
     "text": [
      "HELLO WELCOME TO MOHIT NAGDA'S JUPYTER NOTEBOOK.\n",
      "I HOPE YOU ARE WELL, I AM A 3RD YEAR STUDENT PURSUING BTECH.\n",
      "OKAY BYE\n"
     ]
    }
   ],
   "source": [
    "print(corpus)"
   ]
  },
  {
   "cell_type": "code",
   "execution_count": 15,
   "id": "33703143-6249-4f46-8c17-e11f346e387d",
   "metadata": {},
   "outputs": [],
   "source": [
    "## Tokenization\n",
    "## sentence ----> paragraphs\n",
    "\n",
    "from nltk.tokenize import sent_tokenize"
   ]
  },
  {
   "cell_type": "code",
   "execution_count": 18,
   "id": "fc6e001f-230c-44f2-8149-fed487469903",
   "metadata": {},
   "outputs": [],
   "source": [
    "document=sent_tokenize(corpus)"
   ]
  },
  {
   "cell_type": "code",
   "execution_count": 19,
   "id": "8be66fc0-a346-4e6d-b178-4edaeaa43bff",
   "metadata": {},
   "outputs": [
    {
     "data": {
      "text/plain": [
       "list"
      ]
     },
     "execution_count": 19,
     "metadata": {},
     "output_type": "execute_result"
    }
   ],
   "source": [
    "type(document)"
   ]
  },
  {
   "cell_type": "code",
   "execution_count": 20,
   "id": "79109fa2-ed30-42d8-8558-fb852ef978f1",
   "metadata": {},
   "outputs": [
    {
     "name": "stdout",
     "output_type": "stream",
     "text": [
      "HELLO WELCOME TO MOHIT NAGDA'S JUPYTER NOTEBOOK.\n",
      "I HOPE YOU ARE WELL, I AM A 3RD YEAR STUDENT PURSUING BTECH.\n",
      "OKAY BYE\n"
     ]
    }
   ],
   "source": [
    "for sentence in document:\n",
    "    print(sentence)"
   ]
  },
  {
   "cell_type": "code",
   "execution_count": 21,
   "id": "8a82b95b-4773-4f9a-821b-c98a895e37e6",
   "metadata": {},
   "outputs": [],
   "source": [
    "## Tokenizations\n",
    "## paragrpah --> words\n",
    "## sentence --> words\n",
    "from nltk.tokenize import word_tokenize\n"
   ]
  },
  {
   "cell_type": "code",
   "execution_count": 22,
   "id": "63825e31-6b6f-42e2-8e0b-348ec547acd2",
   "metadata": {},
   "outputs": [
    {
     "data": {
      "text/plain": [
       "['HELLO',\n",
       " 'WELCOME',\n",
       " 'TO',\n",
       " 'MOHIT',\n",
       " 'NAGDA',\n",
       " \"'S\",\n",
       " 'JUPYTER',\n",
       " 'NOTEBOOK',\n",
       " '.',\n",
       " 'I',\n",
       " 'HOPE',\n",
       " 'YOU',\n",
       " 'ARE',\n",
       " 'WELL',\n",
       " ',',\n",
       " 'I',\n",
       " 'AM',\n",
       " 'A',\n",
       " '3RD',\n",
       " 'YEAR',\n",
       " 'STUDENT',\n",
       " 'PURSUING',\n",
       " 'BTECH',\n",
       " '.',\n",
       " 'OKAY',\n",
       " 'BYE']"
      ]
     },
     "execution_count": 22,
     "metadata": {},
     "output_type": "execute_result"
    }
   ],
   "source": [
    "word_tokenize(corpus)"
   ]
  },
  {
   "cell_type": "code",
   "execution_count": 23,
   "id": "51abc01f-bf42-4a3f-80e6-d1be73104707",
   "metadata": {},
   "outputs": [
    {
     "name": "stdout",
     "output_type": "stream",
     "text": [
      "['HELLO', 'WELCOME', 'TO', 'MOHIT', 'NAGDA', \"'S\", 'JUPYTER', 'NOTEBOOK', '.']\n",
      "['I', 'HOPE', 'YOU', 'ARE', 'WELL', ',', 'I', 'AM', 'A', '3RD', 'YEAR', 'STUDENT', 'PURSUING', 'BTECH', '.']\n",
      "['OKAY', 'BYE']\n"
     ]
    }
   ],
   "source": [
    "for sentence in document:\n",
    "    print(word_tokenize(sentence))"
   ]
  },
  {
   "cell_type": "code",
   "execution_count": 24,
   "id": "16a96ce0-ef81-4dfa-8e65-3df67a4b5248",
   "metadata": {},
   "outputs": [],
   "source": [
    "from nltk.tokenize import wordpunct_tokenize"
   ]
  },
  {
   "cell_type": "code",
   "execution_count": 25,
   "id": "b590c7d7-eda6-488b-939e-06d671ad94b5",
   "metadata": {},
   "outputs": [
    {
     "data": {
      "text/plain": [
       "['HELLO',\n",
       " 'WELCOME',\n",
       " 'TO',\n",
       " 'MOHIT',\n",
       " 'NAGDA',\n",
       " \"'\",\n",
       " 'S',\n",
       " 'JUPYTER',\n",
       " 'NOTEBOOK',\n",
       " '.',\n",
       " 'I',\n",
       " 'HOPE',\n",
       " 'YOU',\n",
       " 'ARE',\n",
       " 'WELL',\n",
       " ',',\n",
       " 'I',\n",
       " 'AM',\n",
       " 'A',\n",
       " '3RD',\n",
       " 'YEAR',\n",
       " 'STUDENT',\n",
       " 'PURSUING',\n",
       " 'BTECH',\n",
       " '.',\n",
       " 'OKAY',\n",
       " 'BYE']"
      ]
     },
     "execution_count": 25,
     "metadata": {},
     "output_type": "execute_result"
    }
   ],
   "source": [
    "wordpunct_tokenize(corpus)"
   ]
  },
  {
   "cell_type": "code",
   "execution_count": 26,
   "id": "7f924ac2-b669-4060-bdab-20fe6d8045b7",
   "metadata": {},
   "outputs": [],
   "source": [
    "from nltk.tokenize import TreebankWordDetokenizer"
   ]
  },
  {
   "cell_type": "code",
   "execution_count": 28,
   "id": "dfe34edd-1b98-434a-952d-0289bc608f64",
   "metadata": {},
   "outputs": [],
   "source": [
    "tokenizer=TreebankWordDetokenizer()"
   ]
  },
  {
   "cell_type": "code",
   "execution_count": 29,
   "id": "387ec98a-ae74-4552-a15f-ff357671962e",
   "metadata": {},
   "outputs": [
    {
     "data": {
      "text/plain": [
       "\"H E L L O   W E L C O M E   T O   M O H I T   N A G D A' S   J U P Y T E R   N O T E B O O K . \\n I   H O P E   Y O U   A R E   W E L L,   I   A M   A   3 R D   Y E A R   S T U D E N T   P U R S U I N G   B T E C H . \\n O K A Y   B Y E\""
      ]
     },
     "execution_count": 29,
     "metadata": {},
     "output_type": "execute_result"
    }
   ],
   "source": [
    "tokenizer.tokenize(corpus)"
   ]
  },
  {
   "cell_type": "code",
   "execution_count": null,
   "id": "657f8de4-66cf-403c-89e3-f581de971ca1",
   "metadata": {},
   "outputs": [],
   "source": []
  }
 ],
 "metadata": {
  "kernelspec": {
   "display_name": "Python 3 (ipykernel)",
   "language": "python",
   "name": "python3"
  },
  "language_info": {
   "codemirror_mode": {
    "name": "ipython",
    "version": 3
   },
   "file_extension": ".py",
   "mimetype": "text/x-python",
   "name": "python",
   "nbconvert_exporter": "python",
   "pygments_lexer": "ipython3",
   "version": "3.12.4"
  }
 },
 "nbformat": 4,
 "nbformat_minor": 5
}
