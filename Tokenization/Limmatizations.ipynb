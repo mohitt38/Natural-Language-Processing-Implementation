{
 "cells": [
  {
   "cell_type": "code",
   "execution_count": 6,
   "id": "3bff2590-8394-49b5-8184-bacef624edbd",
   "metadata": {},
   "outputs": [
    {
     "name": "stderr",
     "output_type": "stream",
     "text": [
      "[nltk_data] Downloading package wordnet to\n",
      "[nltk_data]     C:\\Users\\Lenovo\\AppData\\Roaming\\nltk_data...\n"
     ]
    },
    {
     "data": {
      "text/plain": [
       "True"
      ]
     },
     "execution_count": 6,
     "metadata": {},
     "output_type": "execute_result"
    }
   ],
   "source": [
    "import nltk\n",
    "nltk.download('wordnet')\n"
   ]
  },
  {
   "cell_type": "code",
   "execution_count": 1,
   "id": "2a802347-33f9-4955-9e39-6d3d2f64ddef",
   "metadata": {},
   "outputs": [],
   "source": [
    "from nltk.stem import WordNetLemmatizer "
   ]
  },
  {
   "cell_type": "code",
   "execution_count": 4,
   "id": "87664c27-3d4b-4dee-a74f-23ac0cacac18",
   "metadata": {},
   "outputs": [],
   "source": [
    "lemma= WordNetLemmatizer()"
   ]
  },
  {
   "cell_type": "code",
   "execution_count": 9,
   "id": "62ce8d50-be71-4ce3-82ee-a1f614e1eb0f",
   "metadata": {},
   "outputs": [
    {
     "data": {
      "text/plain": [
       "'going'"
      ]
     },
     "execution_count": 9,
     "metadata": {},
     "output_type": "execute_result"
    }
   ],
   "source": [
    "lemma.lemmatize(\"going\")"
   ]
  },
  {
   "cell_type": "code",
   "execution_count": 10,
   "id": "e7e5b74c-4669-412e-b409-fa14ff62a0be",
   "metadata": {},
   "outputs": [],
   "source": [
    "words=['eating','eaten','writes','writing','eats','written','programming','programs','history','finally','finalised']"
   ]
  },
  {
   "cell_type": "code",
   "execution_count": 14,
   "id": "528311fd-ac6c-47d5-81ed-4e8f536043f9",
   "metadata": {},
   "outputs": [
    {
     "name": "stdout",
     "output_type": "stream",
     "text": [
      "eating----->eating\n",
      "eaten----->eaten\n",
      "writes----->writes\n",
      "writing----->writing\n",
      "eats----->eats\n",
      "written----->written\n",
      "programming----->programming\n",
      "programs----->program\n",
      "history----->history\n",
      "finally----->finally\n",
      "finalised----->finalised\n"
     ]
    }
   ],
   "source": [
    "for word in words:\n",
    "    print(word+\"----->\"+lemma.lemmatize(word,pos='n'))"
   ]
  },
  {
   "cell_type": "code",
   "execution_count": 15,
   "id": "4e25c4cb-b196-4401-bac0-559a3c11c90c",
   "metadata": {},
   "outputs": [
    {
     "data": {
      "text/plain": [
       "('fairly', 'sportingly')"
      ]
     },
     "execution_count": 15,
     "metadata": {},
     "output_type": "execute_result"
    }
   ],
   "source": [
    "lemma.lemmatize('fairly') , lemma.lemmatize('sportingly')"
   ]
  },
  {
   "cell_type": "code",
   "execution_count": null,
   "id": "3447cfed-f319-497c-9cb5-0780b2358bc7",
   "metadata": {},
   "outputs": [],
   "source": []
  }
 ],
 "metadata": {
  "kernelspec": {
   "display_name": "Python 3 (ipykernel)",
   "language": "python",
   "name": "python3"
  },
  "language_info": {
   "codemirror_mode": {
    "name": "ipython",
    "version": 3
   },
   "file_extension": ".py",
   "mimetype": "text/x-python",
   "name": "python",
   "nbconvert_exporter": "python",
   "pygments_lexer": "ipython3",
   "version": "3.12.4"
  }
 },
 "nbformat": 4,
 "nbformat_minor": 5
}
